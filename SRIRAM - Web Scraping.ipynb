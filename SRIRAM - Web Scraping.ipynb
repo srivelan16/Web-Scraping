{
 "cells": [
  {
   "cell_type": "code",
   "execution_count": 1,
   "id": "e4ab7642",
   "metadata": {},
   "outputs": [
    {
     "name": "stdout",
     "output_type": "stream",
     "text": [
      "Requirement already satisfied: selenium in c:\\users\\tnsre\\anaconda3\\lib\\site-packages (4.11.2)\n",
      "Requirement already satisfied: webdriver_manager in c:\\users\\tnsre\\anaconda3\\lib\\site-packages (4.0.0)\n",
      "Requirement already satisfied: trio-websocket~=0.9 in c:\\users\\tnsre\\anaconda3\\lib\\site-packages (from selenium) (0.10.3)\n",
      "Requirement already satisfied: urllib3[socks]<3,>=1.26 in c:\\users\\tnsre\\anaconda3\\lib\\site-packages (from selenium) (1.26.14)\n",
      "Requirement already satisfied: certifi>=2021.10.8 in c:\\users\\tnsre\\anaconda3\\lib\\site-packages (from selenium) (2022.12.7)\n",
      "Requirement already satisfied: trio~=0.17 in c:\\users\\tnsre\\anaconda3\\lib\\site-packages (from selenium) (0.22.2)\n",
      "Requirement already satisfied: requests in c:\\users\\tnsre\\anaconda3\\lib\\site-packages (from webdriver_manager) (2.28.1)\n",
      "Requirement already satisfied: python-dotenv in c:\\users\\tnsre\\anaconda3\\lib\\site-packages (from webdriver_manager) (1.0.0)\n",
      "Requirement already satisfied: packaging in c:\\users\\tnsre\\anaconda3\\lib\\site-packages (from webdriver_manager) (22.0)\n",
      "Requirement already satisfied: cffi>=1.14 in c:\\users\\tnsre\\anaconda3\\lib\\site-packages (from trio~=0.17->selenium) (1.15.1)\n",
      "Requirement already satisfied: outcome in c:\\users\\tnsre\\anaconda3\\lib\\site-packages (from trio~=0.17->selenium) (1.2.0)\n",
      "Requirement already satisfied: sortedcontainers in c:\\users\\tnsre\\anaconda3\\lib\\site-packages (from trio~=0.17->selenium) (2.4.0)\n",
      "Requirement already satisfied: attrs>=20.1.0 in c:\\users\\tnsre\\anaconda3\\lib\\site-packages (from trio~=0.17->selenium) (22.1.0)\n",
      "Requirement already satisfied: sniffio in c:\\users\\tnsre\\anaconda3\\lib\\site-packages (from trio~=0.17->selenium) (1.2.0)\n",
      "Requirement already satisfied: exceptiongroup>=1.0.0rc9 in c:\\users\\tnsre\\anaconda3\\lib\\site-packages (from trio~=0.17->selenium) (1.1.2)\n",
      "Requirement already satisfied: idna in c:\\users\\tnsre\\anaconda3\\lib\\site-packages (from trio~=0.17->selenium) (3.4)\n",
      "Requirement already satisfied: wsproto>=0.14 in c:\\users\\tnsre\\anaconda3\\lib\\site-packages (from trio-websocket~=0.9->selenium) (1.2.0)\n",
      "Requirement already satisfied: PySocks!=1.5.7,<2.0,>=1.5.6 in c:\\users\\tnsre\\anaconda3\\lib\\site-packages (from urllib3[socks]<3,>=1.26->selenium) (1.7.1)\n",
      "Requirement already satisfied: charset-normalizer<3,>=2 in c:\\users\\tnsre\\anaconda3\\lib\\site-packages (from requests->webdriver_manager) (2.0.4)\n",
      "Requirement already satisfied: pycparser in c:\\users\\tnsre\\anaconda3\\lib\\site-packages (from cffi>=1.14->trio~=0.17->selenium) (2.21)\n",
      "Requirement already satisfied: h11<1,>=0.9.0 in c:\\users\\tnsre\\anaconda3\\lib\\site-packages (from wsproto>=0.14->trio-websocket~=0.9->selenium) (0.14.0)\n",
      "Requirement already satisfied: selenium in c:\\users\\tnsre\\anaconda3\\lib\\site-packages (4.11.2)\n",
      "Requirement already satisfied: certifi>=2021.10.8 in c:\\users\\tnsre\\anaconda3\\lib\\site-packages (from selenium) (2022.12.7)\n",
      "Requirement already satisfied: urllib3[socks]<3,>=1.26 in c:\\users\\tnsre\\anaconda3\\lib\\site-packages (from selenium) (1.26.14)\n",
      "Requirement already satisfied: trio-websocket~=0.9 in c:\\users\\tnsre\\anaconda3\\lib\\site-packages (from selenium) (0.10.3)\n",
      "Requirement already satisfied: trio~=0.17 in c:\\users\\tnsre\\anaconda3\\lib\\site-packages (from selenium) (0.22.2)\n",
      "Requirement already satisfied: sniffio in c:\\users\\tnsre\\anaconda3\\lib\\site-packages (from trio~=0.17->selenium) (1.2.0)\n",
      "Requirement already satisfied: attrs>=20.1.0 in c:\\users\\tnsre\\anaconda3\\lib\\site-packages (from trio~=0.17->selenium) (22.1.0)\n",
      "Requirement already satisfied: exceptiongroup>=1.0.0rc9 in c:\\users\\tnsre\\anaconda3\\lib\\site-packages (from trio~=0.17->selenium) (1.1.2)\n",
      "Requirement already satisfied: cffi>=1.14 in c:\\users\\tnsre\\anaconda3\\lib\\site-packages (from trio~=0.17->selenium) (1.15.1)\n",
      "Requirement already satisfied: idna in c:\\users\\tnsre\\anaconda3\\lib\\site-packages (from trio~=0.17->selenium) (3.4)\n",
      "Requirement already satisfied: sortedcontainers in c:\\users\\tnsre\\anaconda3\\lib\\site-packages (from trio~=0.17->selenium) (2.4.0)\n",
      "Requirement already satisfied: outcome in c:\\users\\tnsre\\anaconda3\\lib\\site-packages (from trio~=0.17->selenium) (1.2.0)\n",
      "Requirement already satisfied: wsproto>=0.14 in c:\\users\\tnsre\\anaconda3\\lib\\site-packages (from trio-websocket~=0.9->selenium) (1.2.0)\n",
      "Requirement already satisfied: PySocks!=1.5.7,<2.0,>=1.5.6 in c:\\users\\tnsre\\anaconda3\\lib\\site-packages (from urllib3[socks]<3,>=1.26->selenium) (1.7.1)\n",
      "Requirement already satisfied: pycparser in c:\\users\\tnsre\\anaconda3\\lib\\site-packages (from cffi>=1.14->trio~=0.17->selenium) (2.21)\n",
      "Requirement already satisfied: h11<1,>=0.9.0 in c:\\users\\tnsre\\anaconda3\\lib\\site-packages (from wsproto>=0.14->trio-websocket~=0.9->selenium) (0.14.0)\n"
     ]
    },
    {
     "name": "stderr",
     "output_type": "stream",
     "text": [
      "'sudo' is not recognized as an internal or external command,\n",
      "operable program or batch file.\n",
      "'sudo' is not recognized as an internal or external command,\n",
      "operable program or batch file.\n",
      "'sudo' is not recognized as an internal or external command,\n",
      "operable program or batch file.\n"
     ]
    }
   ],
   "source": [
    "!pip install selenium webdriver_manager\n",
    "!pip install selenium\n",
    "!sudo apt-get update\n",
    "!sudo apt install chromium-chromedriver\n",
    "!sudo cp /usr/lib/chromium-browser/chromedriver /usr/bin\n",
    "import sys\n",
    "sys.path.insert(0,'/usr/lib/chromium-browser/chromedriver')"
   ]
  },
  {
   "cell_type": "code",
   "execution_count": 2,
   "id": "c9dc34ed",
   "metadata": {},
   "outputs": [],
   "source": [
    "#loading necessary libraries and packages\n",
    "import os\n",
    "import sys \n",
    "import requests,openpyxl\n",
    "from bs4 import BeautifulSoup\n",
    "from selenium import webdriver\n",
    "import pandas as pd"
   ]
  },
  {
   "cell_type": "code",
   "execution_count": 3,
   "id": "c59ce52f",
   "metadata": {},
   "outputs": [],
   "source": [
    "#Initialising the Selenium WebDriver\n",
    "website = webdriver.Chrome()"
   ]
  },
  {
   "cell_type": "code",
   "execution_count": 4,
   "id": "89e4dffb",
   "metadata": {},
   "outputs": [],
   "source": [
    "#scraping of webpage\n",
    "url = \"https://www.myntra.com/men-topwear\""
   ]
  },
  {
   "cell_type": "code",
   "execution_count": 5,
   "id": "63b1c1d7",
   "metadata": {},
   "outputs": [],
   "source": [
    "website.get(url)"
   ]
  },
  {
   "cell_type": "code",
   "execution_count": 6,
   "id": "448352ed",
   "metadata": {},
   "outputs": [],
   "source": [
    "from selenium.webdriver.common.by import By"
   ]
  },
  {
   "cell_type": "code",
   "execution_count": 7,
   "id": "3559c042",
   "metadata": {},
   "outputs": [
    {
     "data": {
      "text/plain": [
       "[<selenium.webdriver.remote.webelement.WebElement (session=\"a592806b5683a4eeb08f0b27cf9e8f25\", element=\"EA259CFDD70CFFF8B59E4FC2DE9B0122_element_68\")>,\n",
       " <selenium.webdriver.remote.webelement.WebElement (session=\"a592806b5683a4eeb08f0b27cf9e8f25\", element=\"EA259CFDD70CFFF8B59E4FC2DE9B0122_element_69\")>,\n",
       " <selenium.webdriver.remote.webelement.WebElement (session=\"a592806b5683a4eeb08f0b27cf9e8f25\", element=\"EA259CFDD70CFFF8B59E4FC2DE9B0122_element_70\")>,\n",
       " <selenium.webdriver.remote.webelement.WebElement (session=\"a592806b5683a4eeb08f0b27cf9e8f25\", element=\"EA259CFDD70CFFF8B59E4FC2DE9B0122_element_71\")>,\n",
       " <selenium.webdriver.remote.webelement.WebElement (session=\"a592806b5683a4eeb08f0b27cf9e8f25\", element=\"EA259CFDD70CFFF8B59E4FC2DE9B0122_element_72\")>,\n",
       " <selenium.webdriver.remote.webelement.WebElement (session=\"a592806b5683a4eeb08f0b27cf9e8f25\", element=\"EA259CFDD70CFFF8B59E4FC2DE9B0122_element_73\")>,\n",
       " <selenium.webdriver.remote.webelement.WebElement (session=\"a592806b5683a4eeb08f0b27cf9e8f25\", element=\"EA259CFDD70CFFF8B59E4FC2DE9B0122_element_74\")>,\n",
       " <selenium.webdriver.remote.webelement.WebElement (session=\"a592806b5683a4eeb08f0b27cf9e8f25\", element=\"EA259CFDD70CFFF8B59E4FC2DE9B0122_element_75\")>,\n",
       " <selenium.webdriver.remote.webelement.WebElement (session=\"a592806b5683a4eeb08f0b27cf9e8f25\", element=\"EA259CFDD70CFFF8B59E4FC2DE9B0122_element_76\")>,\n",
       " <selenium.webdriver.remote.webelement.WebElement (session=\"a592806b5683a4eeb08f0b27cf9e8f25\", element=\"EA259CFDD70CFFF8B59E4FC2DE9B0122_element_77\")>,\n",
       " <selenium.webdriver.remote.webelement.WebElement (session=\"a592806b5683a4eeb08f0b27cf9e8f25\", element=\"EA259CFDD70CFFF8B59E4FC2DE9B0122_element_78\")>,\n",
       " <selenium.webdriver.remote.webelement.WebElement (session=\"a592806b5683a4eeb08f0b27cf9e8f25\", element=\"EA259CFDD70CFFF8B59E4FC2DE9B0122_element_79\")>,\n",
       " <selenium.webdriver.remote.webelement.WebElement (session=\"a592806b5683a4eeb08f0b27cf9e8f25\", element=\"EA259CFDD70CFFF8B59E4FC2DE9B0122_element_80\")>,\n",
       " <selenium.webdriver.remote.webelement.WebElement (session=\"a592806b5683a4eeb08f0b27cf9e8f25\", element=\"EA259CFDD70CFFF8B59E4FC2DE9B0122_element_81\")>,\n",
       " <selenium.webdriver.remote.webelement.WebElement (session=\"a592806b5683a4eeb08f0b27cf9e8f25\", element=\"EA259CFDD70CFFF8B59E4FC2DE9B0122_element_82\")>,\n",
       " <selenium.webdriver.remote.webelement.WebElement (session=\"a592806b5683a4eeb08f0b27cf9e8f25\", element=\"EA259CFDD70CFFF8B59E4FC2DE9B0122_element_83\")>,\n",
       " <selenium.webdriver.remote.webelement.WebElement (session=\"a592806b5683a4eeb08f0b27cf9e8f25\", element=\"EA259CFDD70CFFF8B59E4FC2DE9B0122_element_84\")>,\n",
       " <selenium.webdriver.remote.webelement.WebElement (session=\"a592806b5683a4eeb08f0b27cf9e8f25\", element=\"EA259CFDD70CFFF8B59E4FC2DE9B0122_element_85\")>,\n",
       " <selenium.webdriver.remote.webelement.WebElement (session=\"a592806b5683a4eeb08f0b27cf9e8f25\", element=\"EA259CFDD70CFFF8B59E4FC2DE9B0122_element_86\")>,\n",
       " <selenium.webdriver.remote.webelement.WebElement (session=\"a592806b5683a4eeb08f0b27cf9e8f25\", element=\"EA259CFDD70CFFF8B59E4FC2DE9B0122_element_87\")>,\n",
       " <selenium.webdriver.remote.webelement.WebElement (session=\"a592806b5683a4eeb08f0b27cf9e8f25\", element=\"EA259CFDD70CFFF8B59E4FC2DE9B0122_element_88\")>,\n",
       " <selenium.webdriver.remote.webelement.WebElement (session=\"a592806b5683a4eeb08f0b27cf9e8f25\", element=\"EA259CFDD70CFFF8B59E4FC2DE9B0122_element_89\")>,\n",
       " <selenium.webdriver.remote.webelement.WebElement (session=\"a592806b5683a4eeb08f0b27cf9e8f25\", element=\"EA259CFDD70CFFF8B59E4FC2DE9B0122_element_90\")>,\n",
       " <selenium.webdriver.remote.webelement.WebElement (session=\"a592806b5683a4eeb08f0b27cf9e8f25\", element=\"EA259CFDD70CFFF8B59E4FC2DE9B0122_element_91\")>,\n",
       " <selenium.webdriver.remote.webelement.WebElement (session=\"a592806b5683a4eeb08f0b27cf9e8f25\", element=\"EA259CFDD70CFFF8B59E4FC2DE9B0122_element_92\")>,\n",
       " <selenium.webdriver.remote.webelement.WebElement (session=\"a592806b5683a4eeb08f0b27cf9e8f25\", element=\"EA259CFDD70CFFF8B59E4FC2DE9B0122_element_93\")>,\n",
       " <selenium.webdriver.remote.webelement.WebElement (session=\"a592806b5683a4eeb08f0b27cf9e8f25\", element=\"EA259CFDD70CFFF8B59E4FC2DE9B0122_element_94\")>,\n",
       " <selenium.webdriver.remote.webelement.WebElement (session=\"a592806b5683a4eeb08f0b27cf9e8f25\", element=\"EA259CFDD70CFFF8B59E4FC2DE9B0122_element_95\")>,\n",
       " <selenium.webdriver.remote.webelement.WebElement (session=\"a592806b5683a4eeb08f0b27cf9e8f25\", element=\"EA259CFDD70CFFF8B59E4FC2DE9B0122_element_96\")>,\n",
       " <selenium.webdriver.remote.webelement.WebElement (session=\"a592806b5683a4eeb08f0b27cf9e8f25\", element=\"EA259CFDD70CFFF8B59E4FC2DE9B0122_element_97\")>,\n",
       " <selenium.webdriver.remote.webelement.WebElement (session=\"a592806b5683a4eeb08f0b27cf9e8f25\", element=\"EA259CFDD70CFFF8B59E4FC2DE9B0122_element_98\")>,\n",
       " <selenium.webdriver.remote.webelement.WebElement (session=\"a592806b5683a4eeb08f0b27cf9e8f25\", element=\"EA259CFDD70CFFF8B59E4FC2DE9B0122_element_99\")>,\n",
       " <selenium.webdriver.remote.webelement.WebElement (session=\"a592806b5683a4eeb08f0b27cf9e8f25\", element=\"EA259CFDD70CFFF8B59E4FC2DE9B0122_element_100\")>,\n",
       " <selenium.webdriver.remote.webelement.WebElement (session=\"a592806b5683a4eeb08f0b27cf9e8f25\", element=\"EA259CFDD70CFFF8B59E4FC2DE9B0122_element_101\")>,\n",
       " <selenium.webdriver.remote.webelement.WebElement (session=\"a592806b5683a4eeb08f0b27cf9e8f25\", element=\"EA259CFDD70CFFF8B59E4FC2DE9B0122_element_102\")>,\n",
       " <selenium.webdriver.remote.webelement.WebElement (session=\"a592806b5683a4eeb08f0b27cf9e8f25\", element=\"EA259CFDD70CFFF8B59E4FC2DE9B0122_element_103\")>,\n",
       " <selenium.webdriver.remote.webelement.WebElement (session=\"a592806b5683a4eeb08f0b27cf9e8f25\", element=\"EA259CFDD70CFFF8B59E4FC2DE9B0122_element_104\")>,\n",
       " <selenium.webdriver.remote.webelement.WebElement (session=\"a592806b5683a4eeb08f0b27cf9e8f25\", element=\"EA259CFDD70CFFF8B59E4FC2DE9B0122_element_105\")>,\n",
       " <selenium.webdriver.remote.webelement.WebElement (session=\"a592806b5683a4eeb08f0b27cf9e8f25\", element=\"EA259CFDD70CFFF8B59E4FC2DE9B0122_element_106\")>,\n",
       " <selenium.webdriver.remote.webelement.WebElement (session=\"a592806b5683a4eeb08f0b27cf9e8f25\", element=\"EA259CFDD70CFFF8B59E4FC2DE9B0122_element_107\")>,\n",
       " <selenium.webdriver.remote.webelement.WebElement (session=\"a592806b5683a4eeb08f0b27cf9e8f25\", element=\"EA259CFDD70CFFF8B59E4FC2DE9B0122_element_108\")>,\n",
       " <selenium.webdriver.remote.webelement.WebElement (session=\"a592806b5683a4eeb08f0b27cf9e8f25\", element=\"EA259CFDD70CFFF8B59E4FC2DE9B0122_element_109\")>,\n",
       " <selenium.webdriver.remote.webelement.WebElement (session=\"a592806b5683a4eeb08f0b27cf9e8f25\", element=\"EA259CFDD70CFFF8B59E4FC2DE9B0122_element_110\")>,\n",
       " <selenium.webdriver.remote.webelement.WebElement (session=\"a592806b5683a4eeb08f0b27cf9e8f25\", element=\"EA259CFDD70CFFF8B59E4FC2DE9B0122_element_111\")>,\n",
       " <selenium.webdriver.remote.webelement.WebElement (session=\"a592806b5683a4eeb08f0b27cf9e8f25\", element=\"EA259CFDD70CFFF8B59E4FC2DE9B0122_element_112\")>,\n",
       " <selenium.webdriver.remote.webelement.WebElement (session=\"a592806b5683a4eeb08f0b27cf9e8f25\", element=\"EA259CFDD70CFFF8B59E4FC2DE9B0122_element_113\")>,\n",
       " <selenium.webdriver.remote.webelement.WebElement (session=\"a592806b5683a4eeb08f0b27cf9e8f25\", element=\"EA259CFDD70CFFF8B59E4FC2DE9B0122_element_114\")>,\n",
       " <selenium.webdriver.remote.webelement.WebElement (session=\"a592806b5683a4eeb08f0b27cf9e8f25\", element=\"EA259CFDD70CFFF8B59E4FC2DE9B0122_element_115\")>,\n",
       " <selenium.webdriver.remote.webelement.WebElement (session=\"a592806b5683a4eeb08f0b27cf9e8f25\", element=\"EA259CFDD70CFFF8B59E4FC2DE9B0122_element_116\")>,\n",
       " <selenium.webdriver.remote.webelement.WebElement (session=\"a592806b5683a4eeb08f0b27cf9e8f25\", element=\"EA259CFDD70CFFF8B59E4FC2DE9B0122_element_117\")>]"
      ]
     },
     "execution_count": 7,
     "metadata": {},
     "output_type": "execute_result"
    }
   ],
   "source": [
    "#with the help of xpath locating product_name\n",
    "product_names = website.find_elements(By.XPATH, \"//div[@class='product-productMetaInfo']//h3\")\n",
    "product_names"
   ]
  },
  {
   "cell_type": "code",
   "execution_count": 8,
   "id": "c3971640",
   "metadata": {},
   "outputs": [
    {
     "data": {
      "text/plain": [
       "['Mast & Harbour',\n",
       " 'Roadster',\n",
       " 'Roadster',\n",
       " 'HERE&NOW',\n",
       " 'LOCOMOTIVE',\n",
       " 'HRX by Hrithik Roshan',\n",
       " 'WROGN',\n",
       " 'Roadster',\n",
       " 'Louis Philippe Jeans',\n",
       " 'LOCOMOTIVE',\n",
       " 'H&M',\n",
       " 'Roadster',\n",
       " 'Dennis Lingo',\n",
       " 'H&M',\n",
       " 'Roadster',\n",
       " 'H&M',\n",
       " 'POE',\n",
       " 'WROGN',\n",
       " 'Dennis Lingo',\n",
       " 'High Star',\n",
       " 'Roadster',\n",
       " 'HERE&NOW',\n",
       " 'THE BEAR HOUSE',\n",
       " 'HRX by Hrithik Roshan',\n",
       " 'Louis Philippe Jeans',\n",
       " 'Roadster',\n",
       " 'Anouk',\n",
       " 'The Indian Garage Co',\n",
       " 'Roadster',\n",
       " 'Roadster',\n",
       " 'H&M',\n",
       " 'HIGHLANDER',\n",
       " 'Bonkers Corner',\n",
       " 'Dennis Lingo',\n",
       " 'HRX by Hrithik Roshan',\n",
       " 'XYXX',\n",
       " 'Roadster',\n",
       " 'Roadster',\n",
       " 'Louis Philippe Sport',\n",
       " 'WROGN',\n",
       " 'Urbano Fashion',\n",
       " 'Jompers',\n",
       " 'HIGHLANDER',\n",
       " 'HRX by Hrithik Roshan',\n",
       " 'THE BEAR HOUSE',\n",
       " 'Louis Philippe Jeans',\n",
       " 'Levis',\n",
       " 'Roadster',\n",
       " 'United Colors of Benetton',\n",
       " 'H&M']"
      ]
     },
     "execution_count": 8,
     "metadata": {},
     "output_type": "execute_result"
    }
   ],
   "source": [
    "#Extracting the relevant data by creating a list\n",
    "list1=[]\n",
    "for i in product_names:\n",
    "    list1.append(i.text)\n",
    "list1"
   ]
  },
  {
   "cell_type": "code",
   "execution_count": 9,
   "id": "ec3340ba",
   "metadata": {},
   "outputs": [
    {
     "data": {
      "text/plain": [
       "[<selenium.webdriver.remote.webelement.WebElement (session=\"a592806b5683a4eeb08f0b27cf9e8f25\", element=\"EA259CFDD70CFFF8B59E4FC2DE9B0122_element_118\")>,\n",
       " <selenium.webdriver.remote.webelement.WebElement (session=\"a592806b5683a4eeb08f0b27cf9e8f25\", element=\"EA259CFDD70CFFF8B59E4FC2DE9B0122_element_119\")>,\n",
       " <selenium.webdriver.remote.webelement.WebElement (session=\"a592806b5683a4eeb08f0b27cf9e8f25\", element=\"EA259CFDD70CFFF8B59E4FC2DE9B0122_element_120\")>,\n",
       " <selenium.webdriver.remote.webelement.WebElement (session=\"a592806b5683a4eeb08f0b27cf9e8f25\", element=\"EA259CFDD70CFFF8B59E4FC2DE9B0122_element_121\")>,\n",
       " <selenium.webdriver.remote.webelement.WebElement (session=\"a592806b5683a4eeb08f0b27cf9e8f25\", element=\"EA259CFDD70CFFF8B59E4FC2DE9B0122_element_122\")>,\n",
       " <selenium.webdriver.remote.webelement.WebElement (session=\"a592806b5683a4eeb08f0b27cf9e8f25\", element=\"EA259CFDD70CFFF8B59E4FC2DE9B0122_element_123\")>,\n",
       " <selenium.webdriver.remote.webelement.WebElement (session=\"a592806b5683a4eeb08f0b27cf9e8f25\", element=\"EA259CFDD70CFFF8B59E4FC2DE9B0122_element_124\")>,\n",
       " <selenium.webdriver.remote.webelement.WebElement (session=\"a592806b5683a4eeb08f0b27cf9e8f25\", element=\"EA259CFDD70CFFF8B59E4FC2DE9B0122_element_125\")>,\n",
       " <selenium.webdriver.remote.webelement.WebElement (session=\"a592806b5683a4eeb08f0b27cf9e8f25\", element=\"EA259CFDD70CFFF8B59E4FC2DE9B0122_element_126\")>,\n",
       " <selenium.webdriver.remote.webelement.WebElement (session=\"a592806b5683a4eeb08f0b27cf9e8f25\", element=\"EA259CFDD70CFFF8B59E4FC2DE9B0122_element_127\")>,\n",
       " <selenium.webdriver.remote.webelement.WebElement (session=\"a592806b5683a4eeb08f0b27cf9e8f25\", element=\"EA259CFDD70CFFF8B59E4FC2DE9B0122_element_128\")>,\n",
       " <selenium.webdriver.remote.webelement.WebElement (session=\"a592806b5683a4eeb08f0b27cf9e8f25\", element=\"EA259CFDD70CFFF8B59E4FC2DE9B0122_element_129\")>,\n",
       " <selenium.webdriver.remote.webelement.WebElement (session=\"a592806b5683a4eeb08f0b27cf9e8f25\", element=\"EA259CFDD70CFFF8B59E4FC2DE9B0122_element_130\")>,\n",
       " <selenium.webdriver.remote.webelement.WebElement (session=\"a592806b5683a4eeb08f0b27cf9e8f25\", element=\"EA259CFDD70CFFF8B59E4FC2DE9B0122_element_131\")>,\n",
       " <selenium.webdriver.remote.webelement.WebElement (session=\"a592806b5683a4eeb08f0b27cf9e8f25\", element=\"EA259CFDD70CFFF8B59E4FC2DE9B0122_element_132\")>,\n",
       " <selenium.webdriver.remote.webelement.WebElement (session=\"a592806b5683a4eeb08f0b27cf9e8f25\", element=\"EA259CFDD70CFFF8B59E4FC2DE9B0122_element_133\")>,\n",
       " <selenium.webdriver.remote.webelement.WebElement (session=\"a592806b5683a4eeb08f0b27cf9e8f25\", element=\"EA259CFDD70CFFF8B59E4FC2DE9B0122_element_134\")>,\n",
       " <selenium.webdriver.remote.webelement.WebElement (session=\"a592806b5683a4eeb08f0b27cf9e8f25\", element=\"EA259CFDD70CFFF8B59E4FC2DE9B0122_element_135\")>,\n",
       " <selenium.webdriver.remote.webelement.WebElement (session=\"a592806b5683a4eeb08f0b27cf9e8f25\", element=\"EA259CFDD70CFFF8B59E4FC2DE9B0122_element_136\")>,\n",
       " <selenium.webdriver.remote.webelement.WebElement (session=\"a592806b5683a4eeb08f0b27cf9e8f25\", element=\"EA259CFDD70CFFF8B59E4FC2DE9B0122_element_137\")>,\n",
       " <selenium.webdriver.remote.webelement.WebElement (session=\"a592806b5683a4eeb08f0b27cf9e8f25\", element=\"EA259CFDD70CFFF8B59E4FC2DE9B0122_element_138\")>,\n",
       " <selenium.webdriver.remote.webelement.WebElement (session=\"a592806b5683a4eeb08f0b27cf9e8f25\", element=\"EA259CFDD70CFFF8B59E4FC2DE9B0122_element_139\")>,\n",
       " <selenium.webdriver.remote.webelement.WebElement (session=\"a592806b5683a4eeb08f0b27cf9e8f25\", element=\"EA259CFDD70CFFF8B59E4FC2DE9B0122_element_140\")>,\n",
       " <selenium.webdriver.remote.webelement.WebElement (session=\"a592806b5683a4eeb08f0b27cf9e8f25\", element=\"EA259CFDD70CFFF8B59E4FC2DE9B0122_element_141\")>,\n",
       " <selenium.webdriver.remote.webelement.WebElement (session=\"a592806b5683a4eeb08f0b27cf9e8f25\", element=\"EA259CFDD70CFFF8B59E4FC2DE9B0122_element_142\")>,\n",
       " <selenium.webdriver.remote.webelement.WebElement (session=\"a592806b5683a4eeb08f0b27cf9e8f25\", element=\"EA259CFDD70CFFF8B59E4FC2DE9B0122_element_143\")>,\n",
       " <selenium.webdriver.remote.webelement.WebElement (session=\"a592806b5683a4eeb08f0b27cf9e8f25\", element=\"EA259CFDD70CFFF8B59E4FC2DE9B0122_element_144\")>,\n",
       " <selenium.webdriver.remote.webelement.WebElement (session=\"a592806b5683a4eeb08f0b27cf9e8f25\", element=\"EA259CFDD70CFFF8B59E4FC2DE9B0122_element_145\")>,\n",
       " <selenium.webdriver.remote.webelement.WebElement (session=\"a592806b5683a4eeb08f0b27cf9e8f25\", element=\"EA259CFDD70CFFF8B59E4FC2DE9B0122_element_146\")>,\n",
       " <selenium.webdriver.remote.webelement.WebElement (session=\"a592806b5683a4eeb08f0b27cf9e8f25\", element=\"EA259CFDD70CFFF8B59E4FC2DE9B0122_element_147\")>,\n",
       " <selenium.webdriver.remote.webelement.WebElement (session=\"a592806b5683a4eeb08f0b27cf9e8f25\", element=\"EA259CFDD70CFFF8B59E4FC2DE9B0122_element_148\")>,\n",
       " <selenium.webdriver.remote.webelement.WebElement (session=\"a592806b5683a4eeb08f0b27cf9e8f25\", element=\"EA259CFDD70CFFF8B59E4FC2DE9B0122_element_149\")>,\n",
       " <selenium.webdriver.remote.webelement.WebElement (session=\"a592806b5683a4eeb08f0b27cf9e8f25\", element=\"EA259CFDD70CFFF8B59E4FC2DE9B0122_element_150\")>,\n",
       " <selenium.webdriver.remote.webelement.WebElement (session=\"a592806b5683a4eeb08f0b27cf9e8f25\", element=\"EA259CFDD70CFFF8B59E4FC2DE9B0122_element_151\")>,\n",
       " <selenium.webdriver.remote.webelement.WebElement (session=\"a592806b5683a4eeb08f0b27cf9e8f25\", element=\"EA259CFDD70CFFF8B59E4FC2DE9B0122_element_152\")>,\n",
       " <selenium.webdriver.remote.webelement.WebElement (session=\"a592806b5683a4eeb08f0b27cf9e8f25\", element=\"EA259CFDD70CFFF8B59E4FC2DE9B0122_element_153\")>,\n",
       " <selenium.webdriver.remote.webelement.WebElement (session=\"a592806b5683a4eeb08f0b27cf9e8f25\", element=\"EA259CFDD70CFFF8B59E4FC2DE9B0122_element_154\")>,\n",
       " <selenium.webdriver.remote.webelement.WebElement (session=\"a592806b5683a4eeb08f0b27cf9e8f25\", element=\"EA259CFDD70CFFF8B59E4FC2DE9B0122_element_155\")>,\n",
       " <selenium.webdriver.remote.webelement.WebElement (session=\"a592806b5683a4eeb08f0b27cf9e8f25\", element=\"EA259CFDD70CFFF8B59E4FC2DE9B0122_element_156\")>,\n",
       " <selenium.webdriver.remote.webelement.WebElement (session=\"a592806b5683a4eeb08f0b27cf9e8f25\", element=\"EA259CFDD70CFFF8B59E4FC2DE9B0122_element_157\")>,\n",
       " <selenium.webdriver.remote.webelement.WebElement (session=\"a592806b5683a4eeb08f0b27cf9e8f25\", element=\"EA259CFDD70CFFF8B59E4FC2DE9B0122_element_158\")>,\n",
       " <selenium.webdriver.remote.webelement.WebElement (session=\"a592806b5683a4eeb08f0b27cf9e8f25\", element=\"EA259CFDD70CFFF8B59E4FC2DE9B0122_element_159\")>,\n",
       " <selenium.webdriver.remote.webelement.WebElement (session=\"a592806b5683a4eeb08f0b27cf9e8f25\", element=\"EA259CFDD70CFFF8B59E4FC2DE9B0122_element_160\")>,\n",
       " <selenium.webdriver.remote.webelement.WebElement (session=\"a592806b5683a4eeb08f0b27cf9e8f25\", element=\"EA259CFDD70CFFF8B59E4FC2DE9B0122_element_161\")>,\n",
       " <selenium.webdriver.remote.webelement.WebElement (session=\"a592806b5683a4eeb08f0b27cf9e8f25\", element=\"EA259CFDD70CFFF8B59E4FC2DE9B0122_element_162\")>,\n",
       " <selenium.webdriver.remote.webelement.WebElement (session=\"a592806b5683a4eeb08f0b27cf9e8f25\", element=\"EA259CFDD70CFFF8B59E4FC2DE9B0122_element_163\")>,\n",
       " <selenium.webdriver.remote.webelement.WebElement (session=\"a592806b5683a4eeb08f0b27cf9e8f25\", element=\"EA259CFDD70CFFF8B59E4FC2DE9B0122_element_164\")>,\n",
       " <selenium.webdriver.remote.webelement.WebElement (session=\"a592806b5683a4eeb08f0b27cf9e8f25\", element=\"EA259CFDD70CFFF8B59E4FC2DE9B0122_element_165\")>,\n",
       " <selenium.webdriver.remote.webelement.WebElement (session=\"a592806b5683a4eeb08f0b27cf9e8f25\", element=\"EA259CFDD70CFFF8B59E4FC2DE9B0122_element_166\")>,\n",
       " <selenium.webdriver.remote.webelement.WebElement (session=\"a592806b5683a4eeb08f0b27cf9e8f25\", element=\"EA259CFDD70CFFF8B59E4FC2DE9B0122_element_167\")>]"
      ]
     },
     "execution_count": 9,
     "metadata": {},
     "output_type": "execute_result"
    }
   ],
   "source": [
    "#with the help of xpath locating product_prices\n",
    "product_prices = website.find_elements(By.XPATH, \"//div[@class='product-price']\")\n",
    "product_prices"
   ]
  },
  {
   "cell_type": "code",
   "execution_count": 10,
   "id": "c87a51ce",
   "metadata": {},
   "outputs": [
    {
     "data": {
      "text/plain": [
       "['Rs. 734Rs. 2099(65% OFF)',\n",
       " 'Rs. 558Rs. 1299(57% OFF)',\n",
       " 'Rs. 254Rs. 499(49% OFF)',\n",
       " 'Rs. 699Rs. 1899(Rs. 1200 OFF)',\n",
       " 'Rs. 463Rs. 1599(71% OFF)',\n",
       " 'Rs. 363Rs. 699(48% OFF)',\n",
       " 'Rs. 967Rs. 2199(56% OFF)',\n",
       " 'Rs. 599Rs. 1499(60% OFF)',\n",
       " 'Rs. 1124Rs. 1499(25% OFF)',\n",
       " 'Rs. 610Rs. 1649(63% OFF)',\n",
       " 'Rs. 399',\n",
       " 'Rs. 449Rs. 999(55% OFF)',\n",
       " 'Rs. 498Rs. 2299(Rs. 1801 OFF)',\n",
       " 'Rs. 1499',\n",
       " 'Rs. 740Rs. 1899(61% OFF)',\n",
       " 'Rs. 2299',\n",
       " 'Rs. 1607Rs. 2399(33% OFF)',\n",
       " 'Rs. 879Rs. 1999(56% OFF)',\n",
       " 'Rs. 625Rs. 2499(Rs. 1874 OFF)',\n",
       " 'Rs. 499Rs. 1399(Rs. 900 OFF)',\n",
       " 'Rs. 599Rs. 1499(60% OFF)',\n",
       " 'Rs. 699Rs. 1899(Rs. 1200 OFF)',\n",
       " 'Rs. 1497Rs. 2495(40% OFF)',\n",
       " 'Rs. 422Rs. 899(53% OFF)',\n",
       " 'Rs. 1109Rs. 1499(26% OFF)',\n",
       " 'Rs. 509Rs. 999(49% OFF)',\n",
       " 'Rs. 454Rs. 1299(65% OFF)',\n",
       " 'Rs. 643Rs. 1949(67% OFF)',\n",
       " 'Rs. 269Rs. 299(10% OFF)',\n",
       " 'Rs. 1747Rs. 1999(Rs. 252 OFF)',\n",
       " 'Rs. 1499',\n",
       " 'Rs. 549Rs. 1099(50% OFF)',\n",
       " 'Rs. 1295Rs. 1599(19% OFF)',\n",
       " 'Rs. 569Rs. 1849(Rs. 1280 OFF)',\n",
       " 'Rs. 539Rs. 1199(55% OFF)',\n",
       " 'Rs. 300Rs. 449(33% OFF)',\n",
       " 'Rs. 895Rs. 1399(36% OFF)',\n",
       " 'Rs. 254Rs. 499(49% OFF)',\n",
       " 'Rs. 2999',\n",
       " 'Rs. 944Rs. 2699(65% OFF)',\n",
       " 'Rs. 395Rs. 1099(64% OFF)',\n",
       " 'Rs. 1418Rs. 4299(67% OFF)',\n",
       " 'Rs. 575Rs. 1199(52% OFF)',\n",
       " 'Rs. 287Rs. 899(68% OFF)',\n",
       " 'Rs. 1122Rs. 2495(55% OFF)',\n",
       " 'Rs. 1124Rs. 1499(25% OFF)',\n",
       " 'Rs. 1624Rs. 2499(35% OFF)',\n",
       " 'Rs. 1539Rs. 2799(45% OFF)',\n",
       " 'Rs. 1499Rs. 2999(50% OFF)',\n",
       " 'Rs. 799']"
      ]
     },
     "execution_count": 10,
     "metadata": {},
     "output_type": "execute_result"
    }
   ],
   "source": [
    "#Extracting the relevant data by creating a list\n",
    "list2=[]\n",
    "for i in product_prices:\n",
    "    list2.append(i.text)\n",
    "list2"
   ]
  },
  {
   "cell_type": "code",
   "execution_count": 11,
   "id": "72622314",
   "metadata": {},
   "outputs": [],
   "source": [
    "#To stop the running chrome\n",
    "website.quit()"
   ]
  },
  {
   "cell_type": "code",
   "execution_count": 12,
   "id": "86c31992",
   "metadata": {},
   "outputs": [
    {
     "name": "stdout",
     "output_type": "stream",
     "text": [
      "['Mast & Harbour', 'Roadster', 'Roadster', 'HERE&NOW', 'LOCOMOTIVE', 'HRX by Hrithik Roshan', 'WROGN', 'Roadster', 'Louis Philippe Jeans', 'LOCOMOTIVE', 'H&M', 'Roadster', 'Dennis Lingo', 'H&M', 'Roadster', 'H&M', 'POE', 'WROGN', 'Dennis Lingo', 'High Star', 'Roadster', 'HERE&NOW', 'THE BEAR HOUSE', 'HRX by Hrithik Roshan', 'Louis Philippe Jeans', 'Roadster', 'Anouk', 'The Indian Garage Co', 'Roadster', 'Roadster', 'H&M', 'HIGHLANDER', 'Bonkers Corner', 'Dennis Lingo', 'HRX by Hrithik Roshan', 'XYXX', 'Roadster', 'Roadster', 'Louis Philippe Sport', 'WROGN', 'Urbano Fashion', 'Jompers', 'HIGHLANDER', 'HRX by Hrithik Roshan', 'THE BEAR HOUSE', 'Louis Philippe Jeans', 'Levis', 'Roadster', 'United Colors of Benetton', 'H&M']\n"
     ]
    }
   ],
   "source": [
    "# import regular expression to extarct strings\n",
    "import re\n",
    "r=re.compile(\"[a-zA-Z]\")\n",
    "data=list(filter(r.match,list1))\n",
    "print(data)"
   ]
  },
  {
   "cell_type": "code",
   "execution_count": 13,
   "id": "41ea860c",
   "metadata": {},
   "outputs": [
    {
     "name": "stdout",
     "output_type": "stream",
     "text": [
      "[734, 558, 254, 699, 463, 363, 967, 599, 1124, 610, 399, 449, 498, 1499, 740, 2299, 1607, 879, 625, 499, 599, 699, 1497, 422, 1109, 509, 454, 643, 269, 1747, 1499, 549, 1295, 569, 539, 300, 895, 254, 2999, 944, 395, 1418, 575, 287, 1122, 1124, 1624, 1539, 1499, 799]\n",
      "[2099, 1299, 499, None, 1599, 699, 2199, 1499, 1499, 1649, None, 999, None, None, 1899, None, 2399, 1999, None, None, 1499, None, 2495, 899, 1499, 999, 1299, 1949, 299, None, None, 1099, 1599, None, 1199, 449, 1399, 499, None, 2699, 1099, 4299, 1199, 899, 2495, 1499, 2499, 2799, 2999, None]\n",
      "[65, 57, 49, None, 71, 48, 56, 60, 25, 63, None, 55, None, None, 61, None, 33, 56, None, None, 60, None, 40, 53, 26, 49, 65, 67, 10, None, None, 50, 19, None, 55, 33, 36, 49, None, 65, 64, 67, 52, 68, 55, 25, 35, 45, 50, None]\n"
     ]
    }
   ],
   "source": [
    "# create empty list \n",
    "product_prices = []\n",
    "discounted_prices = []\n",
    "discount_percentages = []\n",
    "\n",
    "pattern = r'Rs\\. (\\d+)Rs\\. (\\d+)\\((\\d+)% OFF\\)|Rs\\. (\\d+)' # create pattern as per our output\n",
    "\n",
    "# Loop through the data and extract the information\n",
    "for entry in list2:\n",
    "    matches = re.findall(pattern, entry)\n",
    "    if matches:\n",
    "        if matches[0][1]:  # If there's a discounted price and discount percentage\n",
    "            product_prices.append(int(matches[0][0]))\n",
    "            discounted_prices.append(int(matches[0][1]))\n",
    "            discount_percentages.append(int(matches[0][2]))\n",
    "        else:  # If there's only one price (no discount)\n",
    "            product_prices.append(int(matches[0][3])) \n",
    "            discounted_prices.append(None)\n",
    "            discount_percentages.append(None)\n",
    "\n",
    "print(product_prices)\n",
    "print(discounted_prices)\n",
    "print(discount_percentages)"
   ]
  },
  {
   "cell_type": "code",
   "execution_count": 14,
   "id": "14dfdc18",
   "metadata": {},
   "outputs": [],
   "source": [
    "#creating empty dataframe\n",
    "df=pd.DataFrame()"
   ]
  },
  {
   "cell_type": "code",
   "execution_count": 16,
   "id": "053d1cd8",
   "metadata": {},
   "outputs": [
    {
     "name": "stdout",
     "output_type": "stream",
     "text": [
      "                 Product_Name  product_Prices  discounted_Prices  \\\n",
      "0              Mast & Harbour             734             2099.0   \n",
      "1                    Roadster             558             1299.0   \n",
      "2                    Roadster             254              499.0   \n",
      "3                    HERE&NOW             699                NaN   \n",
      "4                  LOCOMOTIVE             463             1599.0   \n",
      "5       HRX by Hrithik Roshan             363              699.0   \n",
      "6                       WROGN             967             2199.0   \n",
      "7                    Roadster             599             1499.0   \n",
      "8        Louis Philippe Jeans            1124             1499.0   \n",
      "9                  LOCOMOTIVE             610             1649.0   \n",
      "10                        H&M             399                NaN   \n",
      "11                   Roadster             449              999.0   \n",
      "12               Dennis Lingo             498                NaN   \n",
      "13                        H&M            1499                NaN   \n",
      "14                   Roadster             740             1899.0   \n",
      "15                        H&M            2299                NaN   \n",
      "16                        POE            1607             2399.0   \n",
      "17                      WROGN             879             1999.0   \n",
      "18               Dennis Lingo             625                NaN   \n",
      "19                  High Star             499                NaN   \n",
      "20                   Roadster             599             1499.0   \n",
      "21                   HERE&NOW             699                NaN   \n",
      "22             THE BEAR HOUSE            1497             2495.0   \n",
      "23      HRX by Hrithik Roshan             422              899.0   \n",
      "24       Louis Philippe Jeans            1109             1499.0   \n",
      "25                   Roadster             509              999.0   \n",
      "26                      Anouk             454             1299.0   \n",
      "27       The Indian Garage Co             643             1949.0   \n",
      "28                   Roadster             269              299.0   \n",
      "29                   Roadster            1747                NaN   \n",
      "30                        H&M            1499                NaN   \n",
      "31                 HIGHLANDER             549             1099.0   \n",
      "32             Bonkers Corner            1295             1599.0   \n",
      "33               Dennis Lingo             569                NaN   \n",
      "34      HRX by Hrithik Roshan             539             1199.0   \n",
      "35                       XYXX             300              449.0   \n",
      "36                   Roadster             895             1399.0   \n",
      "37                   Roadster             254              499.0   \n",
      "38       Louis Philippe Sport            2999                NaN   \n",
      "39                      WROGN             944             2699.0   \n",
      "40             Urbano Fashion             395             1099.0   \n",
      "41                    Jompers            1418             4299.0   \n",
      "42                 HIGHLANDER             575             1199.0   \n",
      "43      HRX by Hrithik Roshan             287              899.0   \n",
      "44             THE BEAR HOUSE            1122             2495.0   \n",
      "45       Louis Philippe Jeans            1124             1499.0   \n",
      "46                      Levis            1624             2499.0   \n",
      "47                   Roadster            1539             2799.0   \n",
      "48  United Colors of Benetton            1499             2999.0   \n",
      "49                        H&M             799                NaN   \n",
      "\n",
      "    discount_Percentages  \n",
      "0                   65.0  \n",
      "1                   57.0  \n",
      "2                   49.0  \n",
      "3                    NaN  \n",
      "4                   71.0  \n",
      "5                   48.0  \n",
      "6                   56.0  \n",
      "7                   60.0  \n",
      "8                   25.0  \n",
      "9                   63.0  \n",
      "10                   NaN  \n",
      "11                  55.0  \n",
      "12                   NaN  \n",
      "13                   NaN  \n",
      "14                  61.0  \n",
      "15                   NaN  \n",
      "16                  33.0  \n",
      "17                  56.0  \n",
      "18                   NaN  \n",
      "19                   NaN  \n",
      "20                  60.0  \n",
      "21                   NaN  \n",
      "22                  40.0  \n",
      "23                  53.0  \n",
      "24                  26.0  \n",
      "25                  49.0  \n",
      "26                  65.0  \n",
      "27                  67.0  \n",
      "28                  10.0  \n",
      "29                   NaN  \n",
      "30                   NaN  \n",
      "31                  50.0  \n",
      "32                  19.0  \n",
      "33                   NaN  \n",
      "34                  55.0  \n",
      "35                  33.0  \n",
      "36                  36.0  \n",
      "37                  49.0  \n",
      "38                   NaN  \n",
      "39                  65.0  \n",
      "40                  64.0  \n",
      "41                  67.0  \n",
      "42                  52.0  \n",
      "43                  68.0  \n",
      "44                  55.0  \n",
      "45                  25.0  \n",
      "46                  35.0  \n",
      "47                  45.0  \n",
      "48                  50.0  \n",
      "49                   NaN  \n"
     ]
    }
   ],
   "source": [
    "df['Product_Name'] = pd.DataFrame(data) # Product_name column\n",
    "df['product_Prices'] = pd.DataFrame(product_prices) # Product_price column\n",
    "df['discounted_Prices'] = pd.DataFrame(discounted_prices) # Discount_prices column\n",
    "df['discount_Percentages'] = pd.DataFrame(discount_percentages) # Discount_percentages\n",
    "print(df)"
   ]
  },
  {
   "cell_type": "code",
   "execution_count": 17,
   "id": "c2dc2877",
   "metadata": {},
   "outputs": [],
   "source": [
    "df.to_csv('Final_web_scraping.csv')"
   ]
  },
  {
   "cell_type": "code",
   "execution_count": null,
   "id": "a63b84b0",
   "metadata": {},
   "outputs": [],
   "source": []
  }
 ],
 "metadata": {
  "kernelspec": {
   "display_name": "Python 3 (ipykernel)",
   "language": "python",
   "name": "python3"
  },
  "language_info": {
   "codemirror_mode": {
    "name": "ipython",
    "version": 3
   },
   "file_extension": ".py",
   "mimetype": "text/x-python",
   "name": "python",
   "nbconvert_exporter": "python",
   "pygments_lexer": "ipython3",
   "version": "3.10.9"
  }
 },
 "nbformat": 4,
 "nbformat_minor": 5
}
